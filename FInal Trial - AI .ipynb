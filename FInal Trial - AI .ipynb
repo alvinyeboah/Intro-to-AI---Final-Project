{
 "cells": [
  {
   "cell_type": "code",
   "execution_count": null,
   "id": "b3601b90",
   "metadata": {},
   "outputs": [],
   "source": [
    "import pandas as pd\n",
    "import numpy as np\n",
    "import matplotlib.pyplot as plt\n",
    "import seaborn as sns\n",
    "from sklearn.preprocessing import StandardScaler, LabelEncoder\n",
    "from sklearn.model_selection import train_test_split, cross_val_score\n",
    "from sklearn.metrics import accuracy_score, precision_score, recall_score, f1_score\n",
    "from keras.models import Sequential\n",
    "from keras.layers import Dense, LSTM, Embedding, SpatialDropout1D\n",
    "from keras.preprocessing.sequence import pad_sequences\n",
    "from tensorflow.keras.preprocessing.text import Tokenizer\n",
    "import tensorflow as tf\n",
    "import re\n",
    "import pickle"
   ]
  },
  {
   "cell_type": "code",
   "execution_count": null,
   "id": "7d13465f-6ddf-40a6-90f4-e4ddd9ff6620",
   "metadata": {},
   "outputs": [],
   "source": [
    "# Load datasets\n",
    "df1 = pd.read_csv('drug1.csv')\n",
    "df2 = pd.read_csv('drug4.csv')\n",
    "\n",
    "# Display the summary statistics and info\n",
    "print(df1.info())\n",
    "print(df1.describe())\n",
    "print(df2.info())\n",
    "print(df2.describe())\n"
   ]
  },
  {
   "cell_type": "code",
   "execution_count": null,
   "id": "f60fa8c5-1f1e-4bb5-9355-7d19cd6de71b",
   "metadata": {},
   "outputs": [],
   "source": [
    "# Fill missing values with empty strings or appropriate values\n",
    "df1.fillna('', inplace=True)\n",
    "df2.fillna('', inplace=True)\n"
   ]
  },
  {
   "cell_type": "code",
   "execution_count": null,
   "id": "2e6987fe-4d0c-421a-a69e-6dddc608d064",
   "metadata": {},
   "outputs": [],
   "source": [
    "# Standardize review percentages\n",
    "review_cols = ['Excellent Review %', 'Average Review %', 'Poor Review %']\n",
    "scaler = StandardScaler()\n",
    "df2[review_cols] = scaler.fit_transform(df2[review_cols])\n"
   ]
  },
  {
   "cell_type": "code",
   "execution_count": null,
   "id": "571c3f16-470f-4a38-968e-7d6c975efc91",
   "metadata": {},
   "outputs": [],
   "source": [
    "# Encode categorical features\n",
    "df1['Habit Forming'] = LabelEncoder().fit_transform(df1['Habit Forming'])\n",
    "df1 = pd.get_dummies(df1, columns=['Therapeutic Class', 'Action Class'], drop_first=True)\n",
    "df2 = pd.get_dummies(df2, columns=['Manufacturer'], drop_first=True)\n"
   ]
  },
  {
   "cell_type": "code",
   "execution_count": null,
   "id": "98bcd9f6-f264-40bd-849b-421fb15c8b49",
   "metadata": {},
   "outputs": [],
   "source": [
    "# Convert medicine names to lower case for merging\n",
    "df1['name'] = df1['name'].str.lower()\n",
    "df2['Medicine Name'] = df2['Medicine Name'].str.lower()\n",
    "\n",
    "# Merge datasets on 'name' column\n",
    "merged_df = pd.merge(df1, df2, left_on='name', right_on='Medicine Name', how='inner')\n",
    "merged_df.drop(columns=['id', 'name', 'Medicine Name', 'Image URL'], inplace=True)\n"
   ]
  },
  {
   "cell_type": "code",
   "execution_count": null,
   "id": "bdeeca10-69be-4080-b33f-15f4e6c5c970",
   "metadata": {},
   "outputs": [],
   "source": [
    "# Count the number of side effects\n",
    "side_effect_cols = [col for col in merged_df.columns if 'sideEffect' in col]\n",
    "merged_df['num_side_effects'] = merged_df[side_effect_cols].apply(lambda row: row.astype(bool).sum(), axis=1)\n",
    "\n",
    "# Drop unnecessary columns\n",
    "merged_df.drop(columns=side_effect_cols, inplace=True)\n"
   ]
  },
  {
   "cell_type": "code",
   "execution_count": null,
   "id": "88d02128-e00e-44ea-b6b2-d4911b61018e",
   "metadata": {},
   "outputs": [],
   "source": [
    "# Distribution of review percentages\n",
    "plt.figure(figsize=(12, 6))\n",
    "sns.histplot(data=merged_df, x='Excellent Review %', kde=True, label='Excellent')\n",
    "sns.histplot(data=merged_df, x='Average Review %', kde=True, color='orange', label='Average')\n",
    "sns.histplot(data=merged_df, x='Poor Review %', kde=True, color='red', label='Poor')\n",
    "plt.legend()\n",
    "plt.title('Distribution of Review Percentages')\n",
    "plt.show()\n",
    "\n",
    "# Countplot of therapeutic classes\n",
    "plt.figure(figsize=(12, 6))\n",
    "sns.countplot(y='Therapeutic Class_ANTI INFECTIVES', data=merged_df)\n",
    "plt.title('Count of Anti Infective Therapeutic Class')\n",
    "plt.show()\n"
   ]
  },
  {
   "cell_type": "code",
   "execution_count": null,
   "id": "baaa29ca-47ff-426d-a596-296f6f9af8e0",
   "metadata": {},
   "outputs": [],
   "source": [
    "# Create binary labels for 'Excellent Review %'\n",
    "threshold = 0.5\n",
    "merged_df['binary_review'] = (merged_df['Excellent Review %'] > threshold).astype(int)\n",
    "\n",
    "# Prepare the data for LSTM\n",
    "tokenizer = Tokenizer(num_words=5000, split=' ')\n",
    "tokenizer.fit_on_texts(merged_df['substitute0'].values)\n",
    "X = tokenizer.texts_to_sequences(merged_df['substitute0'].values)\n",
    "X = pad_sequences(X)\n",
    "\n",
    "Y = merged_df['binary_review']\n",
    "\n",
    "# Save the tokenizer\n",
    "with open('tokenizer.pkl', 'wb') as handle:\n",
    "    pickle.dump(tokenizer, handle, protocol=pickle.HIGHEST_PROTOCOL)\n",
    "    \n",
    "# Save the cleaned dataset\n",
    "merged_df.to_csv('cleaned_data.csv', index=False)"
   ]
  },
  {
   "cell_type": "code",
   "execution_count": null,
   "id": "1eabeb20-e6a0-4352-bed5-7ccd4c9944cc",
   "metadata": {},
   "outputs": [],
   "source": [
    "# Split the data into training and testing sets\n",
    "X_train, X_test, Y_train, Y_test = train_test_split(X, Y, test_size=0.2, random_state=42)\n"
   ]
  },
  {
   "cell_type": "code",
   "execution_count": null,
   "id": "016bd338-f208-4c67-b8d0-a38ab89cd229",
   "metadata": {},
   "outputs": [],
   "source": [
    "# Define LSTM model\n",
    "model = Sequential()\n",
    "model.add(Embedding(5000, 256, input_length=X.shape[1]))\n",
    "model.add(SpatialDropout1D(0.2))\n",
    "model.add(LSTM(100, dropout=0.2, recurrent_dropout=0.2))\n",
    "model.add(Dense(1, activation='sigmoid'))\n",
    "model.compile(loss='binary_crossentropy', optimizer='adam', metrics=['accuracy'])\n",
    "\n",
    "# Train the LSTM model\n",
    "model.fit(X_train, Y_train, epochs=50, batch_size=64, validation_data=(X_test, Y_test))\n"
   ]
  },
  {
   "cell_type": "code",
   "execution_count": null,
   "id": "f927d845-1fba-41ea-8afa-0e2c8327b820",
   "metadata": {},
   "outputs": [],
   "source": [
    "# Predict on the test set\n",
    "y_pred_prob = model.predict(X_test)\n",
    "y_pred = (y_pred_prob > 0.5).astype(int)\n",
    "\n",
    "# Calculate metrics\n",
    "accuracy = accuracy_score(Y_test, y_pred)\n",
    "precision = precision_score(Y_test, y_pred)\n",
    "recall = recall_score(Y_test, y_pred)\n",
    "f1 = f1_score(Y_test, y_pred)\n",
    "\n",
    "print(f'Accuracy: {accuracy}')\n",
    "print(f'Precision: {precision}')\n",
    "print(f'Recall: {recall}')\n",
    "print(f'F1 Score: {f1}')\n"
   ]
  },
  {
   "cell_type": "code",
   "execution_count": null,
   "id": "1c36da19-a222-43cc-abc4-a2bddc78616f",
   "metadata": {},
   "outputs": [],
   "source": [
    "import shap\n",
    "\n",
    "# Explain predictions\n",
    "explainer = shap.DeepExplainer(model, X_train)\n",
    "shap_values = explainer.shap_values(X_test)\n",
    "\n",
    "# Summary plot\n",
    "shap.summary_plot(shap_values, X_test)\n"
   ]
  },
  {
   "cell_type": "code",
   "execution_count": null,
   "id": "b21fa7ec-2591-484f-a60d-3d8c3b9f91ac",
   "metadata": {},
   "outputs": [],
   "source": [
    "model.save('medicine_review_model.keras')"
   ]
  }
 ],
 "metadata": {
  "kernelspec": {
   "display_name": "Python 3 (ipykernel)",
   "language": "python",
   "name": "python3"
  },
  "language_info": {
   "codemirror_mode": {
    "name": "ipython",
    "version": 3
   },
   "file_extension": ".py",
   "mimetype": "text/x-python",
   "name": "python",
   "nbconvert_exporter": "python",
   "pygments_lexer": "ipython3",
   "version": "3.11.7"
  }
 },
 "nbformat": 4,
 "nbformat_minor": 5
}
